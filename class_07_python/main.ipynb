{
 "cells": [
  {
   "cell_type": "markdown",
   "id": "32ba439d-832a-4cd8-af28-9cf9c5ddc85e",
   "metadata": {},
   "source": [
    "# Dictionary\n",
    "* Key:value (items)\n",
    "    * Key replacement of indexes\n",
    "    * value item\n",
    "\n",
    "* dict_variable[key]\n",
    "     * add new value\n",
    "     * update value"
   ]
  },
  {
   "cell_type": "code",
   "execution_count": 7,
   "id": "44f8738b-6dd7-4f21-ac91-db2cc57f0c03",
   "metadata": {},
   "outputs": [],
   "source": [
    "# List\n",
    "data: list[str] = [\"Syed Hafiz Azfar\", \"Masood\", \"Inter Complete\"]"
   ]
  },
  {
   "cell_type": "code",
   "execution_count": 8,
   "id": "4c1a5ba3-917a-485f-b238-a515b4aa2e4d",
   "metadata": {},
   "outputs": [
    {
     "name": "stdout",
     "output_type": "stream",
     "text": [
      "{1, 2, 3, 7}\n"
     ]
    }
   ],
   "source": [
    "# set\n",
    "data : set = {7,1,2,1,1,1,1,3,2}\n",
    "print(data) # return unique"
   ]
  },
  {
   "cell_type": "code",
   "execution_count": 9,
   "id": "2215d184-33ce-4aa3-8799-c9a130e556b5",
   "metadata": {},
   "outputs": [
    {
     "data": {
      "text/plain": [
       "['add',\n",
       " 'clear',\n",
       " 'copy',\n",
       " 'difference',\n",
       " 'difference_update',\n",
       " 'discard',\n",
       " 'intersection',\n",
       " 'intersection_update',\n",
       " 'isdisjoint',\n",
       " 'issubset',\n",
       " 'issuperset',\n",
       " 'pop',\n",
       " 'remove',\n",
       " 'symmetric_difference',\n",
       " 'symmetric_difference_update',\n",
       " 'union',\n",
       " 'update']"
      ]
     },
     "execution_count": 9,
     "metadata": {},
     "output_type": "execute_result"
    }
   ],
   "source": [
    "# set methods:\n",
    "[i for i in dir(data) if \"__\" not in i]"
   ]
  },
  {
   "cell_type": "code",
   "execution_count": 10,
   "id": "299821f6-e518-4c81-8738-3be510dafb55",
   "metadata": {},
   "outputs": [
    {
     "ename": "TypeError",
     "evalue": "'set' object is not subscriptable",
     "output_type": "error",
     "traceback": [
      "\u001b[1;31m---------------------------------------------------------------------------\u001b[0m",
      "\u001b[1;31mTypeError\u001b[0m                                 Traceback (most recent call last)",
      "Cell \u001b[1;32mIn[10], line 2\u001b[0m\n\u001b[0;32m      1\u001b[0m data : \u001b[38;5;28mset\u001b[39m \u001b[38;5;241m=\u001b[39m {\u001b[38;5;241m7\u001b[39m,\u001b[38;5;241m1\u001b[39m,\u001b[38;5;241m2\u001b[39m,\u001b[38;5;241m1\u001b[39m,\u001b[38;5;241m1\u001b[39m,\u001b[38;5;241m1\u001b[39m,\u001b[38;5;241m1\u001b[39m,\u001b[38;5;241m3\u001b[39m,\u001b[38;5;241m2\u001b[39m}\n\u001b[1;32m----> 2\u001b[0m \u001b[38;5;28mprint\u001b[39m(\u001b[43mdata\u001b[49m\u001b[43m[\u001b[49m\u001b[38;5;241;43m0\u001b[39;49m\u001b[43m]\u001b[49m) \u001b[38;5;66;03m# return unique\u001b[39;00m\n",
      "\u001b[1;31mTypeError\u001b[0m: 'set' object is not subscriptable"
     ]
    }
   ],
   "source": [
    "data : set = {7,1,2,1,1,1,1,3,2}\n",
    "print(data[0]) # return unique"
   ]
  },
  {
   "cell_type": "code",
   "execution_count": 3,
   "id": "fd99a953-a6e8-4ed4-b9af-9aa7b7910344",
   "metadata": {},
   "outputs": [
    {
     "name": "stdout",
     "output_type": "stream",
     "text": [
      "Syed Hafiz Azfar Masood\n"
     ]
    }
   ],
   "source": [
    "from typing import Dict\n",
    "# List\n",
    "data: Dict[str, int] = {\n",
    "    \"name\": \"Syed Hafiz Azfar Masood\",\n",
    "    \"age\": 23,\n",
    "    \"Education\": \"Inter Complete\"\n",
    "}\n",
    "\n",
    "print(data[\"name\"])\n"
   ]
  },
  {
   "cell_type": "code",
   "execution_count": 6,
   "id": "19d22b31-22fa-464a-9f3a-8c14e337db0b",
   "metadata": {},
   "outputs": [
    {
     "name": "stdout",
     "output_type": "stream",
     "text": [
      "{'Education': 'Inter Complete', 'age': 23, 'name': 'Syed Hafiz Azfar Masood'}\n"
     ]
    }
   ],
   "source": [
    "import pprint\n",
    "\n",
    "pprint.pprint(data)"
   ]
  },
  {
   "cell_type": "code",
   "execution_count": 11,
   "id": "ca26e7c8-fc3a-412d-85d8-d62cd2ebebd7",
   "metadata": {},
   "outputs": [
    {
     "name": "stdout",
     "output_type": "stream",
     "text": [
      "{'education': 'Inter Complete',\n",
      " 'fname': 'Masood Hussain Raza',\n",
      " 'name': 'Syed Hafiz Azfar'}\n"
     ]
    }
   ],
   "source": [
    "from typing import Dict, Union, Optional\n",
    "import pprint\n",
    "\n",
    "\n",
    "Key = Union[int,str] # create custom type\n",
    "Value = Union[int, str, list, dict, tuple, set]\n",
    "\n",
    "# List                    0                1            2\n",
    "data : Dict[Key,Value] = {\n",
    "                        \"fname\":\"Masood Hussain Raza\",\n",
    "                        \"name\":\"Syed Hafiz Azfar\",\n",
    "                        \"education\": \"Inter Complete\"\n",
    "                        }\n",
    "\n",
    "pprint.pprint(data)"
   ]
  },
  {
   "cell_type": "code",
   "execution_count": 12,
   "id": "8a8310df-7a96-474d-94fe-ab213e59dd76",
   "metadata": {},
   "outputs": [
    {
     "name": "stdout",
     "output_type": "stream",
     "text": [
      "{'education': 'Inter Complete',\n",
      " 'fname': 'Masood Hussain Raza',\n",
      " 'name': 'Syed Hafiz Azfar'}\n",
      "Syed Hafiz Azfar\n",
      "Masood Hussain Raza\n",
      "Inter Complete\n"
     ]
    }
   ],
   "source": [
    "from typing import Dict, Union, Optional\n",
    "import pprint\n",
    "\n",
    "\n",
    "Key = Union[int,str] # create custom type\n",
    "Value = Union[int, str, list, dict, tuple, set]\n",
    "\n",
    "# List                    0                1            2\n",
    "data : Dict[Key,Value] = {\n",
    "                        \"fname\":\"Masood Hussain Raza\",\n",
    "                        \"name\":\"Syed Hafiz Azfar\",\n",
    "                        \"education\": \"Inter Complete\"\n",
    "                        }\n",
    "\n",
    "pprint.pprint(data)\n",
    "print(data[\"name\"])\n",
    "print(data['fname'])\n",
    "print(data['education'])"
   ]
  },
  {
   "cell_type": "code",
   "execution_count": 14,
   "id": "cf9d5c8c-e9d0-4c60-81dd-c019e62acfc9",
   "metadata": {},
   "outputs": [
    {
     "name": "stdout",
     "output_type": "stream",
     "text": [
      "{0: 'Pakistan',\n",
      " 'education': 'Inter Complete',\n",
      " 'fname': 'Masood Hussain Raza',\n",
      " 'name': 'Syed Hafiz Azfar'}\n",
      "Syed Hafiz Azfar\n",
      "Masood Hussain Raza\n",
      "Inter Complete\n",
      "Pakistan\n"
     ]
    }
   ],
   "source": [
    "from typing import Dict, Union, Optional\n",
    "import pprint\n",
    "\n",
    "Key = Union[int,str] # create custom type\n",
    "Value = Union[int, str, list, dict, tuple, set]\n",
    "\n",
    "# List                    0                1            2\n",
    "data : Dict[Key,Value] = {\n",
    "                        \"fname\":\"Masood Hussain Raza\",\n",
    "                        \"name\":\"Syed Hafiz Azfar\",\n",
    "                        \"education\": \"Inter Complete\",\n",
    "                        0: \"Pakistan\"\n",
    "                        }\n",
    "\n",
    "pprint.pprint(data)\n",
    "print(data[\"name\"])\n",
    "print(data['fname'])\n",
    "print(data['education'])\n",
    "print(data[0]) # index = key"
   ]
  },
  {
   "cell_type": "code",
   "execution_count": 16,
   "id": "23e3644b-ad1c-4bcc-bdcb-f382e7f091f2",
   "metadata": {},
   "outputs": [
    {
     "ename": "TypeError",
     "evalue": "unhashable type: 'list'",
     "output_type": "error",
     "traceback": [
      "\u001b[1;31m---------------------------------------------------------------------------\u001b[0m",
      "\u001b[1;31mTypeError\u001b[0m                                 Traceback (most recent call last)",
      "Cell \u001b[1;32mIn[16], line 9\u001b[0m\n\u001b[0;32m      6\u001b[0m Value \u001b[38;5;241m=\u001b[39m Union[\u001b[38;5;28mint\u001b[39m, \u001b[38;5;28mstr\u001b[39m, \u001b[38;5;28mlist\u001b[39m, \u001b[38;5;28mdict\u001b[39m, \u001b[38;5;28mtuple\u001b[39m, \u001b[38;5;28mset\u001b[39m]\n\u001b[0;32m      8\u001b[0m \u001b[38;5;66;03m# List                    0                1            2\u001b[39;00m\n\u001b[1;32m----> 9\u001b[0m data : Dict[Key,Value] \u001b[38;5;241m=\u001b[39m {\n\u001b[0;32m     10\u001b[0m                         \u001b[38;5;124m\"\u001b[39m\u001b[38;5;124mfname\u001b[39m\u001b[38;5;124m\"\u001b[39m:\u001b[38;5;124m\"\u001b[39m\u001b[38;5;124mMasood Hussain Raza\u001b[39m\u001b[38;5;124m\"\u001b[39m,\n\u001b[0;32m     11\u001b[0m                         \u001b[38;5;124m\"\u001b[39m\u001b[38;5;124mname\u001b[39m\u001b[38;5;124m\"\u001b[39m:\u001b[38;5;124m\"\u001b[39m\u001b[38;5;124mSyed Hafiz Azfar\u001b[39m\u001b[38;5;124m\"\u001b[39m,\n\u001b[0;32m     12\u001b[0m                         \u001b[38;5;124m\"\u001b[39m\u001b[38;5;124meducation\u001b[39m\u001b[38;5;124m\"\u001b[39m: \u001b[38;5;124m\"\u001b[39m\u001b[38;5;124mInter Complete\u001b[39m\u001b[38;5;124m\"\u001b[39m,\n\u001b[0;32m     13\u001b[0m                         [\u001b[38;5;241m1\u001b[39m,\u001b[38;5;241m2\u001b[39m,\u001b[38;5;241m3\u001b[39m] : \u001b[38;5;124m\"\u001b[39m\u001b[38;5;124mPakistan\u001b[39m\u001b[38;5;124m\"\u001b[39m, \u001b[38;5;66;03m# error\u001b[39;00m\n\u001b[0;32m     14\u001b[0m                         (\u001b[38;5;241m1\u001b[39m,\u001b[38;5;241m2\u001b[39m,\u001b[38;5;241m3\u001b[39m) : \u001b[38;5;124m\"\u001b[39m\u001b[38;5;124mPakistan\u001b[39m\u001b[38;5;124m\"\u001b[39m, \u001b[38;5;66;03m#error\u001b[39;00m\n\u001b[0;32m     15\u001b[0m                         {\u001b[38;5;241m1\u001b[39m,\u001b[38;5;241m2\u001b[39m,\u001b[38;5;241m3\u001b[39m} : \u001b[38;5;124m\"\u001b[39m\u001b[38;5;124mpakistan\u001b[39m\u001b[38;5;124m\"\u001b[39m, \u001b[38;5;66;03m#error\u001b[39;00m\n\u001b[0;32m     16\u001b[0m                         }\n\u001b[0;32m     18\u001b[0m pprint\u001b[38;5;241m.\u001b[39mpprint(data)\n\u001b[0;32m     19\u001b[0m \u001b[38;5;28mprint\u001b[39m(data[\u001b[38;5;124m\"\u001b[39m\u001b[38;5;124mname\u001b[39m\u001b[38;5;124m\"\u001b[39m])\n",
      "\u001b[1;31mTypeError\u001b[0m: unhashable type: 'list'"
     ]
    }
   ],
   "source": [
    "from typing import Dict, Union, Optional\n",
    "import pprint\n",
    "\n",
    "\n",
    "Key = Union[int,str] # create custom type\n",
    "Value = Union[int, str, list, dict, tuple, set]\n",
    "\n",
    "# List                    0                1            2\n",
    "data : Dict[Key,Value] = {\n",
    "                        \"fname\":\"Masood Hussain Raza\",\n",
    "                        \"name\":\"Syed Hafiz Azfar\",\n",
    "                        \"education\": \"Inter Complete\",\n",
    "                        [1,2,3] : \"Pakistan\", # error\n",
    "                        (1,2,3) : \"Pakistan\", #error\n",
    "                        {1,2,3} : \"pakistan\", #error\n",
    "                        }\n",
    "\n",
    "pprint.pprint(data)\n",
    "print(data[\"name\"])\n",
    "print(data['fname'])\n",
    "print(data['education'])\n",
    "# print(data[0]) # index = key"
   ]
  },
  {
   "cell_type": "code",
   "execution_count": 17,
   "id": "eaff34d0-e842-41ee-851f-87704e097bf8",
   "metadata": {},
   "outputs": [
    {
     "name": "stdout",
     "output_type": "stream",
     "text": [
      "{'education': 'Inter Complete',\n",
      " 'fname': 'Masood Hussain Raza',\n",
      " 'name': 'Syed Hafiz Azfar'}\n",
      "Syed Hafiz Azfar\n",
      "Masood Hussain Raza\n",
      "Inter Complete\n"
     ]
    }
   ],
   "source": [
    "from typing import Dict, Union, Optional\n",
    "import pprint\n",
    "\n",
    "\n",
    "Key = Union[int,str] # create custom type\n",
    "Value = Union[int, str, list, dict, tuple, set]\n",
    "\n",
    "# List                    0                1            2\n",
    "data : Dict[Key,Value] = {\n",
    "                        \"fname\":\"Masood Hussain Raza\",\n",
    "                        \"name\":\"Syed Hafiz Azfar\",\n",
    "                        \"education\": \"Inter Complete\",\n",
    "                        # [1,2,3] : \"Pakistan\", # error\n",
    "                        # (1,2,3) : \"Pakistan\", #error\n",
    "                        # {1,2,3} : \"pakistan\", #error\n",
    "                        }\n",
    "\n",
    "pprint.pprint(data)\n",
    "print(data[\"name\"])\n",
    "print(data['fname'])\n",
    "print(data['education'])\n",
    "# print(data[0]) # index = key"
   ]
  },
  {
   "cell_type": "code",
   "execution_count": 18,
   "id": "c0528952-e7c3-4868-8a81-b8050a3de2a5",
   "metadata": {},
   "outputs": [
    {
     "name": "stdout",
     "output_type": "stream",
     "text": [
      "{1, 2, 3}\n",
      "[1, 2, 3]\n"
     ]
    }
   ],
   "source": [
    "abc : set = {1,2,3,2,2,2,1}\n",
    "print(abc)\n",
    "xyz : list[int] = list(abc)\n",
    "print(xyz)"
   ]
  },
  {
   "cell_type": "code",
   "execution_count": 19,
   "id": "6bc7bb03-0e02-43cb-b50e-c180755bfa7e",
   "metadata": {},
   "outputs": [
    {
     "data": {
      "text/plain": [
       "2"
      ]
     },
     "execution_count": 19,
     "metadata": {},
     "output_type": "execute_result"
    }
   ],
   "source": [
    "from typing import Dict, Union, Optional\n",
    "import pprint\n",
    "\n",
    "\n",
    "Key = Union[int,str] # create custom type\n",
    "Value = Union[int, str, list, dict, tuple, set]\n",
    "\n",
    "# List                    0                1            2\n",
    "data : Dict[Key,Value] = {\n",
    "                        \"fname\":\"Masood Hussain Raza\",\n",
    "                        \"name\":\"Syed Hafiz Azfar\",\n",
    "                        \"education\": \"Inter Complete\",\n",
    "                        \"abc\" : [1,2,3],\n",
    "                        'xyz': {1,2,3},\n",
    "                        'efg' : (1,2,3),\n",
    "                        'cde' : {\"a\":1, \"b\":2}\n",
    "                        # [1,2,3] : \"Pakistan\", # error\n",
    "                        # (1,2,3) : \"Pakistan\", #error\n",
    "                        # {1,2,3} : \"pakistan\", #error\n",
    "                        }\n",
    "\n",
    "data['cde']['b']"
   ]
  },
  {
   "cell_type": "code",
   "execution_count": 20,
   "id": "995ea651-db37-4035-93a5-2992d6f73336",
   "metadata": {},
   "outputs": [
    {
     "name": "stdout",
     "output_type": "stream",
     "text": [
      "{'name': 'Syed Hafiz Azfar', 'fname': 'Masood Hussain Raza', 'education': 'Inter Complete'}\n"
     ]
    }
   ],
   "source": [
    "from typing import Dict, Union, Optional\n",
    "import pprint\n",
    "\n",
    "\n",
    "Key = Union[int,str] # create custom type\n",
    "Value = Union[int, str, list, dict, tuple, set]\n",
    "\n",
    "data : dict[Key,Value] = {}\n",
    "\n",
    "data['name'] = \"Syed Hafiz Azfar\" #add new key and values\n",
    "data['fname'] = \"Masood Hussain Raza\"\n",
    "data['education'] = \"Inter Complete\"\n",
    "\n",
    "print(data)"
   ]
  },
  {
   "cell_type": "code",
   "execution_count": 22,
   "id": "2b649045-1c1d-40e9-b7c6-b8b76943e8c1",
   "metadata": {},
   "outputs": [
    {
     "name": "stdout",
     "output_type": "stream",
     "text": [
      "{'fname': 'Masood Hussain Raza', 'name': 'Syed Hafiz Azfar', 'education': 'Inter Complete'}\n",
      "{'fname': 'Masood Hussain Raza', 'name': 'Syed Azfar', 'education': 'Inter Complete'}\n"
     ]
    }
   ],
   "source": [
    "from typing import Dict, Union, Optional\n",
    "import pprint\n",
    "\n",
    "\n",
    "Key = Union[int,str] # create custom type\n",
    "Value = Union[int, str, list, dict, tuple, set]\n",
    "\n",
    "data : Dict[Key,Value] = {\n",
    "                        \"fname\":\"Masood Hussain Raza\",\n",
    "                        \"name\":\"Syed Hafiz Azfar\",\n",
    "                        \"education\": \"Inter Complete\"}\n",
    "\n",
    "\n",
    "print(data)\n",
    "\n",
    "data['name'] = \"Syed Azfar\" # update\n",
    "\n",
    "print(data)"
   ]
  },
  {
   "cell_type": "code",
   "execution_count": 23,
   "id": "2f9c266c-c30a-4ad6-bfd9-1480c2306102",
   "metadata": {},
   "outputs": [
    {
     "ename": "KeyError",
     "evalue": "'pakistan'",
     "output_type": "error",
     "traceback": [
      "\u001b[1;31m---------------------------------------------------------------------------\u001b[0m",
      "\u001b[1;31mKeyError\u001b[0m                                  Traceback (most recent call last)",
      "Cell \u001b[1;32mIn[23], line 15\u001b[0m\n\u001b[0;32m      6\u001b[0m Value \u001b[38;5;241m=\u001b[39m Union[\u001b[38;5;28mint\u001b[39m, \u001b[38;5;28mstr\u001b[39m, \u001b[38;5;28mlist\u001b[39m, \u001b[38;5;28mdict\u001b[39m, \u001b[38;5;28mtuple\u001b[39m, \u001b[38;5;28mset\u001b[39m]\n\u001b[0;32m      8\u001b[0m data : Dict[Key,Value] \u001b[38;5;241m=\u001b[39m {\n\u001b[0;32m      9\u001b[0m                         \u001b[38;5;124m\"\u001b[39m\u001b[38;5;124mfname\u001b[39m\u001b[38;5;124m\"\u001b[39m:\u001b[38;5;124m\"\u001b[39m\u001b[38;5;124mMasood Hussain Raza\u001b[39m\u001b[38;5;124m\"\u001b[39m,\n\u001b[0;32m     10\u001b[0m                         \u001b[38;5;124m\"\u001b[39m\u001b[38;5;124mname\u001b[39m\u001b[38;5;124m\"\u001b[39m:\u001b[38;5;124m\"\u001b[39m\u001b[38;5;124mSyed Hafiz Azfar\u001b[39m\u001b[38;5;124m\"\u001b[39m,\n\u001b[0;32m     11\u001b[0m                         \u001b[38;5;124m\"\u001b[39m\u001b[38;5;124meducation\u001b[39m\u001b[38;5;124m\"\u001b[39m: \u001b[38;5;124m\"\u001b[39m\u001b[38;5;124mInter Complete\u001b[39m\u001b[38;5;124m\"\u001b[39m}\n\u001b[1;32m---> 15\u001b[0m \u001b[38;5;28mprint\u001b[39m(\u001b[43mdata\u001b[49m\u001b[43m[\u001b[49m\u001b[38;5;124;43m'\u001b[39;49m\u001b[38;5;124;43mpakistan\u001b[39;49m\u001b[38;5;124;43m'\u001b[39;49m\u001b[43m]\u001b[49m)\n\u001b[0;32m     17\u001b[0m [i \u001b[38;5;28;01mfor\u001b[39;00m i \u001b[38;5;129;01min\u001b[39;00m \u001b[38;5;28mdir\u001b[39m(data) \u001b[38;5;28;01mif\u001b[39;00m \u001b[38;5;124m\"\u001b[39m\u001b[38;5;124m__\u001b[39m\u001b[38;5;124m\"\u001b[39m \u001b[38;5;129;01mnot\u001b[39;00m \u001b[38;5;129;01min\u001b[39;00m i]\n",
      "\u001b[1;31mKeyError\u001b[0m: 'pakistan'"
     ]
    }
   ],
   "source": [
    "from typing import Dict, Union, Optional\n",
    "import pprint\n",
    "\n",
    "\n",
    "Key = Union[int,str] # create custom type\n",
    "Value = Union[int, str, list, dict, tuple, set]\n",
    "\n",
    "data : Dict[Key,Value] = {\n",
    "                        \"fname\":\"Masood Hussain Raza\",\n",
    "                        \"name\":\"Syed Hafiz Azfar\",\n",
    "                        \"education\": \"Inter Complete\"}\n",
    "\n",
    "\n",
    "\n",
    "print(data['pakistan'])\n",
    "\n",
    "[i for i in dir(data) if \"__\" not in i]"
   ]
  },
  {
   "cell_type": "code",
   "execution_count": 24,
   "id": "26bf4902-4533-4287-ba40-0a46f7b83ebc",
   "metadata": {},
   "outputs": [
    {
     "name": "stdout",
     "output_type": "stream",
     "text": [
      "NA\n",
      "Syed Hafiz Azfar\n"
     ]
    },
    {
     "data": {
      "text/plain": [
       "['clear',\n",
       " 'copy',\n",
       " 'fromkeys',\n",
       " 'get',\n",
       " 'items',\n",
       " 'keys',\n",
       " 'pop',\n",
       " 'popitem',\n",
       " 'setdefault',\n",
       " 'update',\n",
       " 'values']"
      ]
     },
     "execution_count": 24,
     "metadata": {},
     "output_type": "execute_result"
    }
   ],
   "source": [
    "from typing import Dict, Union, Optional\n",
    "import pprint\n",
    "\n",
    "\n",
    "Key = Union[int,str] # create custom type\n",
    "Value = Union[int, str, list, dict, tuple, set]\n",
    "\n",
    "data : Dict[Key,Value] = {\n",
    "                        \"fname\":\"Masood Hussain Raza\",\n",
    "                        \"name\":\"Syed Hafiz Azfar\",\n",
    "                        \"education\": \"Inter Complete\"}\n",
    "\n",
    "\n",
    "#                 key\n",
    "print(data.get('pakistan',\"NA\"))\n",
    "print(data.get('name',\"NA\"))\n",
    "\n",
    "[i for i in dir(data) if \"__\" not in i]"
   ]
  },
  {
   "cell_type": "code",
   "execution_count": 25,
   "id": "fa17200f-1ad9-4122-905f-ea909ab4bcbb",
   "metadata": {},
   "outputs": [
    {
     "name": "stdout",
     "output_type": "stream",
     "text": [
      "fname\n",
      "name\n",
      "education\n"
     ]
    }
   ],
   "source": [
    "from typing import Dict, Union, Optional\n",
    "import pprint\n",
    "\n",
    "\n",
    "Key = Union[int,str] # create custom type\n",
    "Value = Union[int, str, list, dict, tuple, set]\n",
    "\n",
    "data : Dict[Key,Value] = {\n",
    "                        \"fname\":\"Masood Hussain Raza\",\n",
    "                        \"name\":\"Syed Hafiz Azfar\",\n",
    "                        \"education\": \"Inter Complete\"}\n",
    "\n",
    "\n",
    "for d in data:\n",
    "    print(d) # keys\n",
    "\n",
    "\n",
    "# [i for i in dir(data) if \"__\" not in i]"
   ]
  },
  {
   "cell_type": "code",
   "execution_count": 1,
   "id": "9ab554be-6f4d-4cd5-a62c-5716359afb1a",
   "metadata": {},
   "outputs": [
    {
     "name": "stdout",
     "output_type": "stream",
     "text": [
      "dict_keys(['fname', 'name', 'education'])\n",
      "dict_values(['Masood Hussain Raza', 'Syed Hafiz Azfar', 'Inter Complete'])\n",
      "dict_items([('fname', 'Masood Hussain Raza'), ('name', 'Syed Hafiz Azfar'), ('education', 'Inter Complete')])\n",
      "fname\n",
      "name\n",
      "education\n"
     ]
    }
   ],
   "source": [
    "from typing import Dict, Union, Optional\n",
    "import pprint\n",
    "\n",
    "\n",
    "Key = Union[int,str] # create custom type\n",
    "Value = Union[int, str, list, dict, tuple, set]\n",
    "\n",
    "data : Dict[Key,Value] = {\n",
    "                        \"fname\":\"Masood Hussain Raza\",\n",
    "                        \"name\":\"Syed Hafiz Azfar\",\n",
    "                        \"education\": \"Inter Complete\"}\n",
    "\n",
    "\n",
    "print(data.keys()) # keys\n",
    "print(data.values()) # values\n",
    "print(data.items())\n",
    "\n",
    "for k in data.keys():\n",
    "    print(k)\n"
   ]
  },
  {
   "cell_type": "code",
   "execution_count": 2,
   "id": "11901e40",
   "metadata": {},
   "outputs": [
    {
     "name": "stdout",
     "output_type": "stream",
     "text": [
      "dict_keys(['fname', 'name', 'education'])\n",
      "dict_values(['Masood Hussain Raza', 'Syed Hafiz Azfar', 'Inter Complete'])\n",
      "dict_items([('fname', 'Masood Hussain Raza'), ('name', 'Syed Hafiz Azfar'), ('education', 'Inter Complete')])\n",
      "Masood Hussain Raza\n",
      "Syed Hafiz Azfar\n",
      "Inter Complete\n"
     ]
    }
   ],
   "source": [
    "from typing import Dict, Union, Optional\n",
    "import pprint\n",
    "\n",
    "\n",
    "Key = Union[int,str] # create custom type\n",
    "Value = Union[int, str, list, dict, tuple, set]\n",
    "\n",
    "data : Dict[Key,Value] = {\n",
    "                        \"fname\":\"Masood Hussain Raza\",\n",
    "                        \"name\":\"Syed Hafiz Azfar\",\n",
    "                        \"education\": \"Inter Complete\"}\n",
    "\n",
    "\n",
    "print(data.keys()) # keys\n",
    "print(data.values()) # values\n",
    "print(data.items())\n",
    "\n",
    "for k in data.values():\n",
    "    print(k)\n"
   ]
  },
  {
   "cell_type": "code",
   "execution_count": 3,
   "id": "b11ac2f6",
   "metadata": {},
   "outputs": [
    {
     "name": "stdout",
     "output_type": "stream",
     "text": [
      "dict_keys(['fname', 'name', 'education'])\n",
      "dict_values(['Masood Hussain Raza', 'Syed Hafiz Azfar', 'Inter Complete'])\n",
      "dict_items([('fname', 'Masood Hussain Raza'), ('name', 'Syed Hafiz Azfar'), ('education', 'Inter Complete')])\n",
      "('fname', 'Masood Hussain Raza')\n",
      "('name', 'Syed Hafiz Azfar')\n",
      "('education', 'Inter Complete')\n"
     ]
    }
   ],
   "source": [
    "from typing import Dict, Union, Optional\n",
    "import pprint\n",
    "\n",
    "\n",
    "Key = Union[int,str] # create custom type\n",
    "Value = Union[int, str, list, dict, tuple, set]\n",
    "\n",
    "data : Dict[Key,Value] = {\n",
    "                        \"fname\":\"Masood Hussain Raza\",\n",
    "                        \"name\":\"Syed Hafiz Azfar\",\n",
    "                        \"education\": \"Inter Complete\"}\n",
    "\n",
    "\n",
    "print(data.keys()) # keys\n",
    "print(data.values()) # values\n",
    "print(data.items())\n",
    "\n",
    "for k in data.items():\n",
    "    print(k)\n"
   ]
  },
  {
   "cell_type": "code",
   "execution_count": 4,
   "id": "27efd7b7",
   "metadata": {},
   "outputs": [
    {
     "data": {
      "text/plain": [
       "{'Masood Hussain Raza': 'fname',\n",
       " 'Syed Hafiz Azfar': 'name',\n",
       " 'Inter Complete': 'education'}"
      ]
     },
     "execution_count": 4,
     "metadata": {},
     "output_type": "execute_result"
    }
   ],
   "source": [
    "{v:k for k,v in data.items()}"
   ]
  },
  {
   "cell_type": "code",
   "execution_count": 5,
   "id": "cef53eeb",
   "metadata": {},
   "outputs": [
    {
     "name": "stdout",
     "output_type": "stream",
     "text": [
      "9 7\n"
     ]
    }
   ],
   "source": [
    "a : int = 7\n",
    "b : int = 9\n",
    "\n",
    "a, b = b, a # shuffle\n",
    "\n",
    "print(a,b)"
   ]
  },
  {
   "cell_type": "code",
   "execution_count": 6,
   "id": "5205191e",
   "metadata": {},
   "outputs": [
    {
     "name": "stdout",
     "output_type": "stream",
     "text": [
      "{}\n",
      "{'id': None, 'name': None, 'fname': None, 'course': None}\n"
     ]
    }
   ],
   "source": [
    "keys : list[str] = ['id','name','fname','course']\n",
    "\n",
    "data : dict[Key,Value] = {}\n",
    "\n",
    "print(data)\n",
    "\n",
    "data = data.fromkeys(keys) # inline\n",
    "\n",
    "print(data)"
   ]
  }
 ],
 "metadata": {
  "kernelspec": {
   "display_name": "conda-environment",
   "language": "python",
   "name": "python3"
  },
  "language_info": {
   "codemirror_mode": {
    "name": "ipython",
    "version": 3
   },
   "file_extension": ".py",
   "mimetype": "text/x-python",
   "name": "python",
   "nbconvert_exporter": "python",
   "pygments_lexer": "ipython3",
   "version": "3.12.5"
  }
 },
 "nbformat": 4,
 "nbformat_minor": 5
}
