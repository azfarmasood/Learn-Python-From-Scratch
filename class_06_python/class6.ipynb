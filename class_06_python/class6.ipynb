{
 "cells": [
  {
   "cell_type": "markdown",
   "id": "984943d4-1f9c-4576-946a-f2ca676897a0",
   "metadata": {},
   "source": [
    "\n",
    "\n",
    "\n",
    "# If-else-elif\n",
    "```\n",
    "if logic:\n",
    "    True_block\n",
    "else:\n",
    "    False_block\n",
    "```\n",
    "\n",
    "## comprehensive if-else\n",
    "```\n",
    "True_block if logic else False_block\n",
    "```\n",
    "* if\n",
    "* if-else\n",
    "* if-elif-else"
   ]
  },
  {
   "cell_type": "code",
   "execution_count": 1,
   "id": "491fae9c-0261-4234-83c6-d783df804d07",
   "metadata": {},
   "outputs": [
    {
     "name": "stdout",
     "output_type": "stream",
     "text": [
      "Pakistan zinda bad\n"
     ]
    }
   ],
   "source": [
    "if True:\n",
    "    print(\"Pakistan zinda bad\")\n",
    "else:\n",
    "    print(\"Hello world!\")"
   ]
  },
  {
   "cell_type": "code",
   "execution_count": 2,
   "id": "f1b98332-e7f0-4a7f-9c6a-83ce228c90db",
   "metadata": {},
   "outputs": [
    {
     "name": "stdout",
     "output_type": "stream",
     "text": [
      "Hello world!\n"
     ]
    }
   ],
   "source": [
    "if False:\n",
    "    print(\"Pakistan zinda bad\")\n",
    "else:\n",
    "    print(\"Hello world!\")"
   ]
  },
  {
   "cell_type": "code",
   "execution_count": 3,
   "id": "c78f4da3-b2b6-4c06-998b-10d75ab01eda",
   "metadata": {},
   "outputs": [
    {
     "name": "stdout",
     "output_type": "stream",
     "text": [
      "Hello world!\n"
     ]
    }
   ],
   "source": [
    "#     True_block               logic           False_block\n",
    "print(\"Pakistan zinda bad\") if False else print(\"Hello world!\")"
   ]
  },
  {
   "cell_type": "code",
   "execution_count": 4,
   "id": "69660355-6e1c-48ce-867c-411aeff71ff8",
   "metadata": {},
   "outputs": [
    {
     "name": "stdout",
     "output_type": "stream",
     "text": [
      "Pakistan zinda bad\n"
     ]
    }
   ],
   "source": [
    "print(\"Pakistan zinda bad\") if True else print(\"Hello world!\")"
   ]
  },
  {
   "cell_type": "markdown",
   "id": "f42ba055-4eaa-49a6-8705-b45c6a5a24fc",
   "metadata": {},
   "source": [
    "# comparison operators\n",
    "* ==\n",
    "* `>=`\n",
    "* <=\n",
    "* !=\n",
    "## logic\n",
    "* and \n",
    "* or\n",
    "* not"
   ]
  },
  {
   "cell_type": "code",
   "execution_count": 7,
   "id": "3656464b-7e51-43b7-b396-f664780ffb79",
   "metadata": {},
   "outputs": [
    {
     "name": "stdout",
     "output_type": "stream",
     "text": [
      "True Pakistan block\n",
      "1\n",
      "2\n"
     ]
    }
   ],
   "source": [
    "if True:\n",
    "    print(\"True Pakistan block\")\n",
    "\n",
    "print(\"1\")\n",
    "print(\"2\")"
   ]
  },
  {
   "cell_type": "code",
   "execution_count": 8,
   "id": "977f6c16-05b2-40ae-aaab-ffa9dd3e7c50",
   "metadata": {},
   "outputs": [
    {
     "name": "stdout",
     "output_type": "stream",
     "text": [
      "1\n",
      "2\n"
     ]
    }
   ],
   "source": [
    "if False:\n",
    "    print(\"True Pakistan block\")\n",
    "\n",
    "print(\"1\")\n",
    "print(\"2\")"
   ]
  },
  {
   "cell_type": "code",
   "execution_count": 9,
   "id": "5ff0c8d4-061c-402e-b3de-987452366292",
   "metadata": {},
   "outputs": [
    {
     "name": "stdout",
     "output_type": "stream",
     "text": [
      "True_block\n"
     ]
    }
   ],
   "source": [
    "if True:\n",
    "    print(\"True_block\")\n",
    "elif False:\n",
    "    print(\"elif logic1\")\n",
    "elif False:\n",
    "    print(\"elif logic2\")\n",
    "elif False:\n",
    "    print(\"elif logic3\")\n",
    "else:\n",
    "    print(\"final else block\")"
   ]
  },
  {
   "cell_type": "code",
   "execution_count": 10,
   "id": "a65a30bc-3795-4325-addc-81e9a47c852c",
   "metadata": {},
   "outputs": [
    {
     "name": "stdout",
     "output_type": "stream",
     "text": [
      "elif logic1\n"
     ]
    }
   ],
   "source": [
    "if False:\n",
    "    print(\"True_block\")\n",
    "elif True:\n",
    "    print(\"elif logic1\")\n",
    "elif False:\n",
    "    print(\"elif logic2\")\n",
    "elif False:\n",
    "    print(\"elif logic3\")\n",
    "else:\n",
    "    print(\"final else block\")"
   ]
  },
  {
   "cell_type": "code",
   "execution_count": 16,
   "id": "f8ff8546-4022-43e6-85e9-6325384f1fd4",
   "metadata": {},
   "outputs": [
    {
     "name": "stdout",
     "output_type": "stream",
     "text": [
      "elif logic2\n",
      "final else block\n",
      "Pakistan\n"
     ]
    }
   ],
   "source": [
    "# chain1 run only one block \n",
    "if False:\n",
    "    print(\"True_block\")\n",
    "elif False:\n",
    "    print(\"elif logic1\")\n",
    "elif True:\n",
    "    print(\"elif logic2\")\n",
    "elif True:\n",
    "    print(\"elif logic3\")\n",
    "else:\n",
    "    print(\"final else block\")\n",
    "\n",
    "# chain2 run only one block \n",
    "if False:\n",
    "    print(\"True_block\")\n",
    "elif False:\n",
    "    print(\"elif logic1\")\n",
    "elif False:\n",
    "    print(\"elif logic2\")\n",
    "elif False:\n",
    "    print(\"elif logic3\")\n",
    "else:\n",
    "    print(\"final else block\")\n",
    "\n",
    "print(\"Pakistan\")"
   ]
  },
  {
   "cell_type": "markdown",
   "id": "d94f9fdb-8db7-4ce0-852d-77fedff13d56",
   "metadata": {},
   "source": [
    "# Grading Rule\n",
    "https://www.infoworld.com/article/3630372/get-started-with-python-type-hints.html"
   ]
  },
  {
   "cell_type": "code",
   "execution_count": 17,
   "id": "8bd9f80c-e3b0-4188-8c10-14a2391a7517",
   "metadata": {},
   "outputs": [
    {
     "name": "stdout",
     "output_type": "stream",
     "text": [
      "Dear Student your percentage is 88 now your calculated grade is:\t A+\n"
     ]
    }
   ],
   "source": [
    "from typing import Union\n",
    "\n",
    "per : Union[int, float] = 88\n",
    "grade :Union[str, None] = None\n",
    "\n",
    "if per >= 80:\n",
    "    grade = \"A+\"\n",
    "elif per >= 70:\n",
    "    grade = \"A\"\n",
    "elif per >= 60:\n",
    "    grade = \"B\"\n",
    "elif per >= 50:\n",
    "    grade = \"C\"\n",
    "elif per >= 40:\n",
    "    grade = \"D\"\n",
    "elif per >= 33:\n",
    "    grade = \"E\"\n",
    "else:\n",
    "    grade = \"Fail\"\n",
    "\n",
    "print(f\"Dear Student your percentage is {per} now your calculated grade is:\\t {grade}\")\n",
    "    "
   ]
  },
  {
   "cell_type": "code",
   "execution_count": 18,
   "id": "7a7141ee-4125-42e9-b739-1c8c7691e967",
   "metadata": {},
   "outputs": [
    {
     "name": "stdout",
     "output_type": "stream",
     "text": [
      "Enter your percentage:\t 81\n"
     ]
    },
    {
     "name": "stdout",
     "output_type": "stream",
     "text": [
      "<class 'str'>\n",
      "81\n"
     ]
    }
   ],
   "source": [
    "a = input(\"Enter your percentage:\\t\")\n",
    "print(type(a))\n",
    "print(a)"
   ]
  },
  {
   "cell_type": "code",
   "execution_count": 19,
   "id": "e28fa941-ecc7-4729-a772-766aa34c6686",
   "metadata": {},
   "outputs": [
    {
     "name": "stdout",
     "output_type": "stream",
     "text": [
      "Enter your percentage:\t 81\n"
     ]
    },
    {
     "name": "stdout",
     "output_type": "stream",
     "text": [
      "<class 'int'>\n",
      "81\n"
     ]
    }
   ],
   "source": [
    "a = int(input(\"Enter your percentage:\\t\"))\n",
    "print(type(a))\n",
    "print(a)"
   ]
  },
  {
   "cell_type": "code",
   "execution_count": 22,
   "id": "d9123605-cbb6-4bb0-9859-5e7c7dac79df",
   "metadata": {},
   "outputs": [
    {
     "name": "stdout",
     "output_type": "stream",
     "text": [
      "Enter your percentage:\t 78\n"
     ]
    },
    {
     "name": "stdout",
     "output_type": "stream",
     "text": [
      "Dear Student your percentage is 78 now your calculated grade is:\t A\n"
     ]
    }
   ],
   "source": [
    "from typing import Union\n",
    "\n",
    "per : Union[int, float] = int(input(\"Enter your percentage:\\t\"))\n",
    "grade : Union[str, None] = None\n",
    "\n",
    "if per >= 80:\n",
    "    grade = \"A+\"\n",
    "elif per >= 70:\n",
    "    grade = \"A\"\n",
    "elif per >= 60:\n",
    "    grade = \"B\"\n",
    "elif per >= 50:\n",
    "    grade = \"C\"\n",
    "elif per >= 40:\n",
    "    grade = \"D\"\n",
    "elif per >= 33:\n",
    "    grade = \"E\"\n",
    "else:\n",
    "    grade = \"Fail\"\n",
    "\n",
    "print(f\"Dear Student your percentage is {per} now your calculated grade is:\\t {grade}\")\n",
    "    "
   ]
  },
  {
   "cell_type": "code",
   "execution_count": 23,
   "id": "6b2f99e2-229c-4221-b355-ac7d53186239",
   "metadata": {},
   "outputs": [],
   "source": [
    "from typing import Union, Optional\n",
    "\n",
    "per : Union[int, float] = 88\n",
    "# per : int | float = 88\n",
    "\n",
    "grade :Optional[str] = None\n",
    "\n",
    "if per >= 80:\n",
    "    grade = \"A+\"\n",
    "elif per >= 70:\n",
    "    grade = \"A\"\n",
    "elif per >= 60:\n",
    "    grade = \"B\"\n",
    "elif per >= 50:\n",
    "    grade = \"C\"\n",
    "elif per >= 40:\n",
    "    grade = \"D\"\n",
    "elif per >= 33:\n",
    "    grade = \"E\"\n",
    "else:\n",
    "    grade = \"Fail\"\n",
    "\n"
   ]
  },
  {
   "cell_type": "markdown",
   "id": "da1b11e7-5b89-43a0-9fd9-7e77ce674322",
   "metadata": {},
   "source": [
    "# Logical Error"
   ]
  },
  {
   "cell_type": "code",
   "execution_count": 24,
   "id": "54e7aecc-6e2d-4fcb-9822-1267d6319b5e",
   "metadata": {},
   "outputs": [
    {
     "name": "stdout",
     "output_type": "stream",
     "text": [
      "Enter your percentage:\t 99\n"
     ]
    },
    {
     "name": "stdout",
     "output_type": "stream",
     "text": [
      "Dear Student your percentage is 99 now your calculated grade is:\t Fail\n"
     ]
    }
   ],
   "source": [
    "from typing import Union\n",
    "\n",
    "per : Union[int, float] = int(input(\"Enter your percentage:\\t\"))\n",
    "grade : Union[str, None] = None\n",
    "\n",
    "if per >= 0:\n",
    "    grade = \"Fail\"\n",
    "elif per >= 33:\n",
    "    grade = \"E\"\n",
    "elif per >= 40:\n",
    "    grade = \"D\"\n",
    "elif per >= 50:\n",
    "    grade = \"C\"\n",
    "elif per >= 60:\n",
    "    grade = \"B\"\n",
    "elif per >= 70:\n",
    "    grade = \"A\"\n",
    "else:\n",
    "    grade = \"A+\"\n",
    "\n",
    "print(f\"Dear Student your percentage is {per} now your calculated grade is:\\t {grade}\")\n",
    "    "
   ]
  },
  {
   "cell_type": "code",
   "execution_count": 26,
   "id": "fed920ee-788e-4511-93d9-2144fc26482c",
   "metadata": {},
   "outputs": [
    {
     "name": "stdout",
     "output_type": "stream",
     "text": [
      "Enter your percentage:\t 99\n"
     ]
    },
    {
     "name": "stdout",
     "output_type": "stream",
     "text": [
      "Dear Student your percentage is 99 now your calculated grade is:\t A+\n"
     ]
    }
   ],
   "source": [
    "from typing import Union\n",
    "\n",
    "per : Union[int, float] = int(input(\"Enter your percentage:\\t\"))\n",
    "grade : Union[str, None] = None\n",
    "\n",
    "if per >= 0 and per < 33:\n",
    "    grade = \"Fail\"\n",
    "elif per >= 33 and per < 40:\n",
    "    grade = \"E\"\n",
    "elif per >= 40 and per < 50:\n",
    "    grade = \"D\"\n",
    "elif per >= 50 and per < 60:\n",
    "    grade = \"C\"\n",
    "elif per >= 60 and per <70 :\n",
    "    grade = \"B\"\n",
    "elif per >= 70 and per <80 :\n",
    "    grade = \"A\"\n",
    "elif per >=80 and per <= 100:\n",
    "    grade = \"A+\"\n",
    "\n",
    "print(f\"Dear Student your percentage is {per} now your calculated grade is:\\t {grade}\")\n",
    "    "
   ]
  },
  {
   "cell_type": "code",
   "execution_count": 30,
   "id": "d636bba5-f3dd-4c45-8124-32ee5c70afbe",
   "metadata": {},
   "outputs": [
    {
     "name": "stdout",
     "output_type": "stream",
     "text": [
      "Enter your percentage:\t 80.2\n"
     ]
    },
    {
     "name": "stdout",
     "output_type": "stream",
     "text": [
      "Dear Student your percentage is 80.2 now your calculated grade is:\t A+\n"
     ]
    }
   ],
   "source": [
    "from typing import Union\n",
    "\n",
    "per : Union[int, float] = float(input(\"Enter your percentage:\\t\"))\n",
    "grade : Union[str, None] = None\n",
    "\n",
    "if (per >= 0) and (per < 33):\n",
    "    grade = \"Fail\"\n",
    "elif (per >= 33) and (per < 40):\n",
    "    grade = \"E\"\n",
    "elif (per >= 40) and (per < 50):\n",
    "    grade = \"D\"\n",
    "elif (per >= 50) and (per < 60):\n",
    "    grade = \"C\"\n",
    "elif (per >= 60) and (per <70) :\n",
    "    grade = \"B\"\n",
    "elif (per >= 70) and (per <80) :\n",
    "    grade = \"A\"\n",
    "elif (per >=80) and (per <= 100):\n",
    "    grade = \"A+\"\n",
    "\n",
    "print(f\"Dear Student your percentage is {per} now your calculated grade is:\\t {grade}\")\n",
    "    "
   ]
  },
  {
   "cell_type": "markdown",
   "id": "e98c322a-7949-4986-b014-24f842308ecb",
   "metadata": {},
   "source": [
    "# student percentages\n",
    "https://peps.python.org/pep-0484/#type-aliases"
   ]
  },
  {
   "cell_type": "code",
   "execution_count": 32,
   "id": "464bac7f-e3bd-460e-9b74-ca49cdd2164b",
   "metadata": {},
   "outputs": [
    {
     "name": "stdout",
     "output_type": "stream",
     "text": [
      "[88, 99.9, 50, 51, 65, 70]\n",
      "['A+', 'A+', 'C', 'C', 'B', 'A']\n"
     ]
    }
   ],
   "source": [
    "from typing import Union\n",
    "PerType = Union[float, int]\n",
    "\n",
    "percentages : list[PerType] = [88, 99.9, 50, 51,65,70]\n",
    "\n",
    "grades : list[str] = []\n",
    "\n",
    "for per in percentages:\n",
    "    grade : str = \"\"\n",
    "\n",
    "    if (per >= 0) and (per < 33):\n",
    "        grade = \"Fail\"\n",
    "    elif (per >= 33) and (per < 40):\n",
    "        grade = \"E\"\n",
    "    elif (per >= 40) and (per < 50):\n",
    "        grade = \"D\"\n",
    "    elif (per >= 50) and (per < 60):\n",
    "        grade = \"C\"\n",
    "    elif (per >= 60) and (per <70) :\n",
    "        grade = \"B\"\n",
    "    elif (per >= 70) and (per <80) :\n",
    "        grade = \"A\"\n",
    "    elif (per >=80) and (per <= 100):\n",
    "        grade = \"A+\"\n",
    "\n",
    "    grades.append(grade)\n",
    "\n",
    "print(percentages)\n",
    "print(grades)\n",
    "\n",
    "    \n",
    "\n",
    "\n",
    "\n",
    "\n"
   ]
  },
  {
   "cell_type": "code",
   "execution_count": 39,
   "id": "dba131ac-2fc1-430c-8013-2b7fc261878f",
   "metadata": {},
   "outputs": [
    {
     "name": "stdout",
     "output_type": "stream",
     "text": [
      "['Sir Zia', 'Qasim', 'Sir Inam']\n"
     ]
    }
   ],
   "source": [
    "names: list[str] = ['Sir Zia']\n",
    "\n",
    "names.append(\"Qasim\")\n",
    "names.append(\"Sir Inam\")\n",
    "print(names)"
   ]
  },
  {
   "cell_type": "code",
   "execution_count": 33,
   "id": "8efda527-66ca-46b4-896c-edc07f39c9a9",
   "metadata": {},
   "outputs": [
    {
     "data": {
      "text/plain": [
       "<zip at 0x10c2c00c0>"
      ]
     },
     "execution_count": 33,
     "metadata": {},
     "output_type": "execute_result"
    }
   ],
   "source": [
    "zip(percentages, grades) # <zip at 0x10c2c00c0> generator function iteration perform->list, for"
   ]
  },
  {
   "cell_type": "code",
   "execution_count": 41,
   "id": "9a52a74d-9e8f-4a08-abe4-d79654332214",
   "metadata": {},
   "outputs": [
    {
     "data": {
      "text/plain": [
       "[(88, 'A+'), (99.9, 'A+'), (50, 'C'), (51, 'C'), (65, 'B'), (70, 'A')]"
      ]
     },
     "execution_count": 41,
     "metadata": {},
     "output_type": "execute_result"
    }
   ],
   "source": [
    "list(zip(percentages, grades))"
   ]
  },
  {
   "cell_type": "code",
   "execution_count": 44,
   "id": "2c2f2af5-183f-4768-8c10-62b6cd875c62",
   "metadata": {},
   "outputs": [
    {
     "data": {
      "text/plain": [
       "[0, 1, 2, 3, 4, 5]"
      ]
     },
     "execution_count": 44,
     "metadata": {},
     "output_type": "execute_result"
    }
   ],
   "source": [
    "roll_no: list[int] = list(range(len(percentages)))\n",
    "roll_no"
   ]
  },
  {
   "cell_type": "code",
   "execution_count": 46,
   "id": "758ec276-f8d6-4377-895d-2605f9e64795",
   "metadata": {},
   "outputs": [
    {
     "data": {
      "text/plain": [
       "[(0, 88, 'A+'),\n",
       " (1, 99.9, 'A+'),\n",
       " (2, 50, 'C'),\n",
       " (3, 51, 'C'),\n",
       " (4, 65, 'B'),\n",
       " (5, 70, 'A')]"
      ]
     },
     "execution_count": 46,
     "metadata": {},
     "output_type": "execute_result"
    }
   ],
   "source": [
    "data_base = list(zip(roll_no,percentages, grades))\n",
    "data_base"
   ]
  },
  {
   "cell_type": "code",
   "execution_count": 47,
   "id": "e0370432-cb3c-4036-aca7-156b61b82121",
   "metadata": {},
   "outputs": [
    {
     "data": {
      "text/plain": [
       "[(0, 88, 'A+'),\n",
       " (1, 99.9, 'A+'),\n",
       " (2, 50, 'C'),\n",
       " (3, 51, 'C'),\n",
       " (4, 65, 'B'),\n",
       " (5, 70, 'A')]"
      ]
     },
     "metadata": {},
     "output_type": "display_data"
    },
    {
     "data": {
      "text/plain": [
       "[(0, 88, 'A+'),\n",
       " (1, 99.9, 'A+'),\n",
       " (2, 50, 'C'),\n",
       " (3, 51, 'C'),\n",
       " (4, 65, 'B'),\n",
       " (5, 70, 'A')]"
      ]
     },
     "execution_count": 47,
     "metadata": {},
     "output_type": "execute_result"
    }
   ],
   "source": [
    "display(data_base)\n",
    "sorted(data_base)"
   ]
  },
  {
   "cell_type": "code",
   "execution_count": 48,
   "id": "c8205fa7-79d7-4738-aa1e-27c8937c4836",
   "metadata": {},
   "outputs": [
    {
     "data": {
      "text/plain": [
       "[(0, 88, 'A+'),\n",
       " (1, 99.9, 'A+'),\n",
       " (2, 50, 'C'),\n",
       " (3, 51, 'C'),\n",
       " (4, 65, 'B'),\n",
       " (5, 70, 'A')]"
      ]
     },
     "metadata": {},
     "output_type": "display_data"
    },
    {
     "data": {
      "text/plain": [
       "[(2, 50, 'C'),\n",
       " (3, 51, 'C'),\n",
       " (4, 65, 'B'),\n",
       " (5, 70, 'A'),\n",
       " (0, 88, 'A+'),\n",
       " (1, 99.9, 'A+')]"
      ]
     },
     "execution_count": 48,
     "metadata": {},
     "output_type": "execute_result"
    }
   ],
   "source": [
    "display(data_base)\n",
    "sorted(data_base, key=lambda x:x[1])"
   ]
  },
  {
   "cell_type": "code",
   "execution_count": 49,
   "id": "d878a31d-6adc-47ab-a34c-e2435b4023b3",
   "metadata": {},
   "outputs": [
    {
     "data": {
      "text/plain": [
       "[(0, 88, 'A+'),\n",
       " (1, 99.9, 'A+'),\n",
       " (2, 50, 'C'),\n",
       " (3, 51, 'C'),\n",
       " (4, 65, 'B'),\n",
       " (5, 70, 'A')]"
      ]
     },
     "metadata": {},
     "output_type": "display_data"
    },
    {
     "data": {
      "text/plain": [
       "[(1, 99.9, 'A+'),\n",
       " (0, 88, 'A+'),\n",
       " (5, 70, 'A'),\n",
       " (4, 65, 'B'),\n",
       " (3, 51, 'C'),\n",
       " (2, 50, 'C')]"
      ]
     },
     "execution_count": 49,
     "metadata": {},
     "output_type": "execute_result"
    }
   ],
   "source": [
    "display(data_base)\n",
    "sorted(data_base, key=lambda x:x[1], reverse=True)"
   ]
  },
  {
   "cell_type": "code",
   "execution_count": 50,
   "id": "5fe95b3b-6923-434f-beec-01a9adde74f7",
   "metadata": {},
   "outputs": [
    {
     "name": "stdout",
     "output_type": "stream",
     "text": [
      "Audi\n",
      "BMW\n",
      "Subaru\n",
      "Toyota\n"
     ]
    }
   ],
   "source": [
    "cars : list[str] = ['audi', 'bmw', 'subaru', 'toyota']\n",
    "for car in cars:\n",
    "    if car == 'bmw':\n",
    "     print(car.upper())\n",
    "    else:\n",
    "     print(car.title())"
   ]
  },
  {
   "cell_type": "code",
   "execution_count": 54,
   "id": "aeede7df-64d3-46c6-9fbd-1afdb0769bdc",
   "metadata": {},
   "outputs": [
    {
     "name": "stdout",
     "output_type": "stream",
     "text": [
      "toyota\n"
     ]
    },
    {
     "data": {
      "text/plain": [
       "False"
      ]
     },
     "execution_count": 54,
     "metadata": {},
     "output_type": "execute_result"
    }
   ],
   "source": [
    "print(car)\n",
    "car == 'bmw'"
   ]
  },
  {
   "cell_type": "code",
   "execution_count": 55,
   "id": "e425c160-4abb-47b1-98f2-115894b6671d",
   "metadata": {},
   "outputs": [
    {
     "data": {
      "text/plain": [
       "True"
      ]
     },
     "execution_count": 55,
     "metadata": {},
     "output_type": "execute_result"
    }
   ],
   "source": [
    "car = 'Audi'\n",
    "car.lower() == 'audi'"
   ]
  },
  {
   "cell_type": "code",
   "execution_count": 52,
   "id": "4bd149ba-2170-43de-a774-6fae31555408",
   "metadata": {},
   "outputs": [
    {
     "data": {
      "text/plain": [
       "['Audi', 'BMW', 'Subaru', 'Toyota']"
      ]
     },
     "execution_count": 52,
     "metadata": {},
     "output_type": "execute_result"
    }
   ],
   "source": [
    "cars : list[str] = ['audi', 'bmw', 'subaru', 'toyota']\n",
    "\n",
    "[i.upper() if i=='bmw' else i.title() for i in cars]"
   ]
  },
  {
   "cell_type": "code",
   "execution_count": 57,
   "id": "7e34e379-bb62-462f-8947-e271e1a8c34b",
   "metadata": {},
   "outputs": [
    {
     "name": "stdout",
     "output_type": "stream",
     "text": [
      "AUDI\n",
      "BMW\n",
      "mehran\n",
      "SUBARU\n",
      "TOYOTA\n"
     ]
    }
   ],
   "source": [
    "cars : list[str] = ['audi', 'bmw',\"Mehran\", 'subaru', 'toyota']\n",
    "\n",
    "for car in cars: # in = extract element from iterated types \n",
    "    if car != 'Mehran':\n",
    "        print(car.upper())\n",
    "    else:\n",
    "        print(car.lower())\n",
    "   "
   ]
  },
  {
   "cell_type": "code",
   "execution_count": 58,
   "id": "541903b0-0e62-429d-ac70-61af82e65837",
   "metadata": {},
   "outputs": [
    {
     "name": "stdout",
     "output_type": "stream",
     "text": [
      "That is not the correct answer. Please try again!\n"
     ]
    }
   ],
   "source": [
    "answer = 17\n",
    "if answer != 42:\n",
    "    print(\"That is not the correct answer. Please try again!\")"
   ]
  },
  {
   "cell_type": "code",
   "execution_count": 59,
   "id": "6106f5f4-5bd7-4bf5-b35e-fa3d0160e7cd",
   "metadata": {},
   "outputs": [
    {
     "data": {
      "text/plain": [
       "False"
      ]
     },
     "execution_count": 59,
     "metadata": {},
     "output_type": "execute_result"
    }
   ],
   "source": [
    "cars : list[str] = ['audi', 'bmw',\"Mehran\", 'subaru', 'toyota']\n",
    "\n",
    "'changan' in cars"
   ]
  },
  {
   "cell_type": "code",
   "execution_count": 60,
   "id": "9e91b211-360d-4092-b6e4-75e24823b7ed",
   "metadata": {},
   "outputs": [
    {
     "data": {
      "text/plain": [
       "True"
      ]
     },
     "execution_count": 60,
     "metadata": {},
     "output_type": "execute_result"
    }
   ],
   "source": [
    "cars : list[str] = ['audi', 'bmw',\"Mehran\", 'subaru', 'toyota']\n",
    "\n",
    "'bmw' in cars # True"
   ]
  },
  {
   "cell_type": "code",
   "execution_count": 62,
   "id": "aa5f370f-8729-4afd-944d-1f0ba782d9ae",
   "metadata": {},
   "outputs": [
    {
     "name": "stdout",
     "output_type": "stream",
     "text": [
      "True\n",
      "Marie, you can post a response if you wish.\n"
     ]
    }
   ],
   "source": [
    "banned_users : list[str] = ['andrew', 'carolina', 'david']\n",
    "user : str = 'marie'\n",
    "\n",
    "print(user not in banned_users)\n",
    "\n",
    "if user not in banned_users:\n",
    "    print(f\"{user.title()}, you can post a response if you wish.\")"
   ]
  },
  {
   "cell_type": "code",
   "execution_count": 63,
   "id": "59584910-85af-44dc-93f1-9dea07c3e411",
   "metadata": {},
   "outputs": [
    {
     "name": "stdout",
     "output_type": "stream",
     "text": [
      "Sorry, you are too young to vote.\n",
      "Please register to vote as soon as you turn 18!\n"
     ]
    }
   ],
   "source": [
    "age: int = 17\n",
    "if age >= 18:\n",
    "    print(\"You are old enough to vote!\") \n",
    "    print(\"Have you registered to vote yet?\")\n",
    "else:\n",
    "    print(\"Sorry, you are too young to vote.\")\n",
    "    print(\"Please register to vote as soon as you turn 18!\")"
   ]
  },
  {
   "cell_type": "code",
   "execution_count": 64,
   "id": "483e82c8-ec7d-49d5-a6de-12b545ead6de",
   "metadata": {},
   "outputs": [
    {
     "name": "stdout",
     "output_type": "stream",
     "text": [
      "Your admission cost is $25.\n"
     ]
    }
   ],
   "source": [
    "age = 12\n",
    "if age < 4:\n",
    "    print(\"Your admission cost is $0.\")\n",
    "elif age < 18:\n",
    "    print(\"Your admission cost is $25.\")\n",
    "else:\n",
    "      print(\"Your admission cost is $40.\")"
   ]
  },
  {
   "cell_type": "code",
   "execution_count": 65,
   "id": "5ac78861-5406-4e45-ba88-0fa2b2c03b62",
   "metadata": {},
   "outputs": [
    {
     "name": "stdout",
     "output_type": "stream",
     "text": [
      "Adding mushrooms.\n",
      "Adding extra cheese.\n",
      "\n",
      "Finished making your pizza!\n"
     ]
    }
   ],
   "source": [
    "requested_toppings : list[str] = ['mushrooms', 'extra cheese']\n",
    "\n",
    "if 'mushrooms' in requested_toppings:\n",
    "      print(\"Adding mushrooms.\")\n",
    "    \n",
    "if 'pepperoni' in requested_toppings: \n",
    "    print(\"Adding pepperoni.\")\n",
    "    \n",
    "if 'extra cheese' in requested_toppings:\n",
    "    print(\"Adding extra cheese.\")\n",
    "    \n",
    "print(\"\\nFinished making your pizza!\")"
   ]
  },
  {
   "cell_type": "code",
   "execution_count": 66,
   "id": "467d1263-e24b-4945-99d7-0d493c6d50cc",
   "metadata": {},
   "outputs": [
    {
     "name": "stdout",
     "output_type": "stream",
     "text": [
      "Adding mushrooms.\n",
      "Sorry, we are out of green peppers right now.\n",
      "Adding extra cheese.\n",
      "\n",
      "Finished making your pizza!\n"
     ]
    }
   ],
   "source": [
    "requested_toppings = ['mushrooms', 'green peppers', 'extra cheese']\n",
    "for requested_topping in requested_toppings:\n",
    "    if requested_topping == 'green peppers':\n",
    "        print(\"Sorry, we are out of green peppers right now.\")\n",
    "    else:\n",
    "        print(f\"Adding {requested_topping}.\")\n",
    "print(\"\\nFinished making your pizza!\")"
   ]
  },
  {
   "cell_type": "code",
   "execution_count": 67,
   "id": "4aa2263f-13b5-408b-8813-ca3935c7726f",
   "metadata": {},
   "outputs": [
    {
     "name": "stdout",
     "output_type": "stream",
     "text": [
      "Are you sure you want a plain pizza?\n"
     ]
    }
   ],
   "source": [
    "requested_toppings = []\n",
    "\n",
    "if requested_toppings:\n",
    "    for requested_topping in requested_toppings:\n",
    "        print(f\"Adding {requested_topping}.\")\n",
    "    print(\"\\nFinished making your pizza!\")\n",
    "else:\n",
    "    print(\"Are you sure you want a plain pizza?\")"
   ]
  },
  {
   "cell_type": "code",
   "execution_count": 68,
   "id": "d7b988ca-193c-40c8-a2f5-b880a9db4c84",
   "metadata": {},
   "outputs": [
    {
     "name": "stdout",
     "output_type": "stream",
     "text": [
      "Adding mushrooms.\n",
      "Sorry, we don't have french fries.\n",
      "Adding extra cheese.\n",
      "\n",
      "Finished making your pizza!\n"
     ]
    }
   ],
   "source": [
    "available_toppings:list[str] = ['mushrooms', 'olives', 'green peppers',\n",
    "                        'pepperoni', 'pineapple', 'extra cheese']\n",
    "\n",
    "requested_toppings:list[str] = ['mushrooms', 'french fries', 'extra cheese'] # user input\n",
    "\n",
    "for requested_topping in requested_toppings:\n",
    "    if requested_topping in available_toppings:\n",
    "        print(f\"Adding {requested_topping}.\")\n",
    "    else:\n",
    "        print(f\"Sorry, we don't have {requested_topping}.\")\n",
    "print(\"\\nFinished making your pizza!\")"
   ]
  },
  {
   "cell_type": "code",
   "execution_count": 69,
   "id": "52e76e98-5ecd-48e7-8f4b-daad3cd098f2",
   "metadata": {},
   "outputs": [
    {
     "name": "stdout",
     "output_type": "stream",
     "text": [
      "Enter ',' seprated value for topping abc,xyz, pakistan, 123\n"
     ]
    },
    {
     "data": {
      "text/plain": [
       "['abc', 'xyz', ' pakistan', ' 123']"
      ]
     },
     "execution_count": 69,
     "metadata": {},
     "output_type": "execute_result"
    }
   ],
   "source": [
    "input(\"Enter ',' seprated value for topping\").split(\",\")"
   ]
  },
  {
   "cell_type": "code",
   "execution_count": 72,
   "id": "add463c4-70c2-4ae5-a79f-205677d7cbb1",
   "metadata": {},
   "outputs": [
    {
     "name": "stdout",
     "output_type": "stream",
     "text": [
      "Enter user id: \t admin\n",
      "Enter password:\t admin\n"
     ]
    },
    {
     "name": "stdout",
     "output_type": "stream",
     "text": [
      "sent otp on you registered number\n"
     ]
    },
    {
     "name": "stdout",
     "output_type": "stream",
     "text": [
      "Please inter otp 123\n"
     ]
    },
    {
     "name": "stdout",
     "output_type": "stream",
     "text": [
      "Welcom PIAIC\n"
     ]
    }
   ],
   "source": [
    "user_name : str = input(\"Enter user id: \\t\")\n",
    "user_passwrod : str = input(\"Enter password:\\t\")\n",
    "\n",
    "\n",
    "if user_name == 'admin' and user_passwrod == 'admin':\n",
    "    print(\"sent otp on you registered number\")\n",
    "    otp : str = input(\"Please inter otp\")\n",
    "    if otp == '123':\n",
    "        print(\"Welcom PIAIC\")\n",
    "else:\n",
    "    print(\"Invalid user or password\")"
   ]
  },
  {
   "cell_type": "markdown",
   "id": "dfd547c9-1b45-4a2d-836a-bb999881c47f",
   "metadata": {},
   "source": [
    "### Chapter 5 Excersices:"
   ]
  },
  {
   "cell_type": "markdown",
   "id": "45b48c4e",
   "metadata": {},
   "source": [
    "##### Q:5.1"
   ]
  },
  {
   "cell_type": "code",
   "execution_count": 1,
   "id": "31647c64",
   "metadata": {},
   "outputs": [
    {
     "name": "stdout",
     "output_type": "stream",
     "text": [
      "Is car == 'Carolla'? I predict True\n",
      "True\n",
      "\n",
      "Is car == 'audi'? I predict False\n",
      "False\n"
     ]
    }
   ],
   "source": [
    "car = \"Toyota Carolla\"\n",
    "print(\"Is car == 'Carolla'? I predict True\")\n",
    "print(car == 'Toyota Carolla')\n",
    "\n",
    "print(\"\\nIs car == 'audi'? I predict False\")\n",
    "print(car == 'audi')\n"
   ]
  },
  {
   "cell_type": "code",
   "execution_count": 3,
   "id": "c35f6d1d",
   "metadata": {},
   "outputs": [
    {
     "name": "stdout",
     "output_type": "stream",
     "text": [
      "x > y? I predict False\n",
      "False\n",
      "y > x? I pridict True\n",
      "True\n"
     ]
    }
   ],
   "source": [
    "x = 10\n",
    "y = 15\n",
    "\n",
    "print(\"x > y? I predict False\")\n",
    "print(x > y)\n",
    "\n",
    "print(\"y > x? I pridict True\")\n",
    "print(y > x)"
   ]
  },
  {
   "cell_type": "code",
   "execution_count": 8,
   "id": "32f445ae",
   "metadata": {},
   "outputs": [
    {
     "name": "stdout",
     "output_type": "stream",
     "text": [
      "Test 1 - Equality with strings\n",
      "True\n",
      "\n",
      "Test 2 - Inequality with strings\n",
      "True\n",
      "\n",
      "Test 3 - Equality with strings\n",
      "True\n",
      "\n",
      "Test 3 - Inequality with strings\n",
      "True\n"
     ]
    }
   ],
   "source": [
    "string1: str = \"Hello\"\n",
    "string2: str = \"hello\"\n",
    "\n",
    "print(\"Test 1 - Equality with strings\")\n",
    "print(string1 == \"Hello\")\n",
    "\n",
    "print(\"\\nTest 2 - Inequality with strings\")\n",
    "print(string1 != \"hello\")\n",
    "\n",
    "print(\"\\nTest 3 - Equality with strings\")\n",
    "print(string2 == \"hello\")\n",
    "\n",
    "print(\"\\nTest 3 - Inequality with strings\")\n",
    "print(string2 != \"Hello\")"
   ]
  },
  {
   "cell_type": "code",
   "execution_count": 11,
   "id": "55ad8e28",
   "metadata": {},
   "outputs": [
    {
     "name": "stdout",
     "output_type": "stream",
     "text": [
      "Test 5 - Equality with lower() method\n",
      "True\n",
      "\n",
      "Test 6 - Inequality with lower() method\n",
      "False\n"
     ]
    }
   ],
   "source": [
    "string3: str = \"Python\"\n",
    "\n",
    "print(\"Test 5 - Equality with lower() method\")\n",
    "print(string3.lower() == \"python\")\n",
    "\n",
    "print(\"\\nTest 6 - Inequality with lower() method\")\n",
    "print(string3.lower() != \"python\")"
   ]
  },
  {
   "cell_type": "code",
   "execution_count": 12,
   "id": "8beda7e9",
   "metadata": {},
   "outputs": [
    {
     "name": "stdout",
     "output_type": "stream",
     "text": [
      "Test 7 - Equality:  True\n",
      "Test 8 - Inequality:  True\n",
      "Test 9 - Greater than:  True\n",
      "Test 10 - Less than:  True\n",
      "Test 11 - Greater than or equal to:  True\n",
      "Test 12 - Less than or equal to:  False\n"
     ]
    }
   ],
   "source": [
    "num1: int = 10\n",
    "num2: int = 20\n",
    "num3: int = 10\n",
    "\n",
    "print(\"Test 7 - Equality: \", num1 == num3)  # True\n",
    "print(\"Test 8 - Inequality: \", num1 != num2)  # True\n",
    "print(\"Test 9 - Greater than: \", num2 > num1)  # True\n",
    "print(\"Test 10 - Less than: \", num1 < num2)  # True\n",
    "print(\"Test 11 - Greater than or equal to: \", num1 >= num3)  # True\n",
    "print(\"Test 12 - Less than or equal to: \", num2 <= num1)  # False"
   ]
  },
  {
   "cell_type": "code",
   "execution_count": 13,
   "id": "031f3d07",
   "metadata": {},
   "outputs": [
    {
     "name": "stdout",
     "output_type": "stream",
     "text": [
      "Test 13 - Using and keyword (both conditions True):  True\n",
      "Test 14 - Using and keyword (one condition False):  False\n",
      "Test 15 - Using or keyword (one condition True):  True\n",
      "Test 16 - Using or keyword (both conditions False):  False\n"
     ]
    }
   ],
   "source": [
    "print(\"Test 13 - Using and keyword (both conditions True): \", num1 == 10 and num2 == 20)  # True\n",
    "print(\"Test 14 - Using and keyword (one condition False): \", num1 == 10 and num2 == 10)  # False\n",
    "print(\"Test 15 - Using or keyword (one condition True): \", num1 == 10 or num2 == 10)  # True\n",
    "print(\"Test 16 - Using or keyword (both conditions False): \", num1 == 5 or num2 == 15)  # False"
   ]
  },
  {
   "cell_type": "code",
   "execution_count": 15,
   "id": "4cd8b933",
   "metadata": {},
   "outputs": [
    {
     "name": "stdout",
     "output_type": "stream",
     "text": [
      "Test 17 - Item is in list:  True\n",
      "Test 18 - Item is not in list:  False\n"
     ]
    }
   ],
   "source": [
    "my_list: list[int] = [1, 2, 3, 4, 5]\n",
    "print(\"Test 17 - Item is in list: \", 2 in my_list)  # True\n",
    "print(\"Test 18 - Item is not in list: \", 10 in my_list)  # False"
   ]
  },
  {
   "cell_type": "code",
   "execution_count": 17,
   "id": "c5c06a30",
   "metadata": {},
   "outputs": [
    {
     "name": "stdout",
     "output_type": "stream",
     "text": [
      "Test 19 - Item is not in list:  True\n",
      "Test 20 - Item is in list:  True\n"
     ]
    }
   ],
   "source": [
    "print(\"Test 19 - Item is not in list: \", 6 not in my_list)  # True\n",
    "print(\"Test 20 - Item is not in list: \", 10 not in my_list)  # True"
   ]
  },
  {
   "cell_type": "code",
   "execution_count": 16,
   "id": "22124923",
   "metadata": {},
   "outputs": [
    {
     "name": "stdout",
     "output_type": "stream",
     "text": [
      "Test 19 - Item is not in list:  False\n",
      "Test 20 - Item is in list:  False\n"
     ]
    }
   ],
   "source": [
    "print(\"Test 19 - Item is in list: \", 1 not in my_list)  # False\n",
    "print(\"Test 20 - Item is in list: \", 2 not in my_list)  # False"
   ]
  },
  {
   "cell_type": "code",
   "execution_count": 18,
   "id": "4a8fba88",
   "metadata": {},
   "outputs": [
    {
     "name": "stdout",
     "output_type": "stream",
     "text": [
      "Your admission cost is $25.\n"
     ]
    }
   ],
   "source": [
    "age = 12\n",
    "if age < 4:\n",
    " price = 0\n",
    "elif age < 18:\n",
    " price = 25\n",
    "else:\n",
    "    price = 40\n",
    "print(f\"Your admission cost is ${price}.\")\n"
   ]
  },
  {
   "cell_type": "markdown",
   "id": "e6e108a1",
   "metadata": {},
   "source": [
    "#### 5-4"
   ]
  },
  {
   "cell_type": "code",
   "execution_count": 19,
   "id": "97a5d172",
   "metadata": {},
   "outputs": [
    {
     "name": "stdout",
     "output_type": "stream",
     "text": [
      "You just earned 5 points\n"
     ]
    }
   ],
   "source": [
    "color: str = \"green\"\n",
    "\n",
    "if color == \"green\":\n",
    "    print(\"You just earned 5 points\")\n",
    "else:\n",
    "    print(\"No Out Put\")"
   ]
  },
  {
   "cell_type": "code",
   "execution_count": 21,
   "id": "15def38d",
   "metadata": {},
   "outputs": [
    {
     "name": "stdout",
     "output_type": "stream",
     "text": [
      "No OutPut\n"
     ]
    }
   ],
   "source": [
    "color: str = \"green\"\n",
    "\n",
    "if color == \"red\":\n",
    "    print(\"You just earned 5 points\")\n",
    "else:\n",
    "    print(\"No OutPut\")"
   ]
  },
  {
   "cell_type": "markdown",
   "id": "01aa3279",
   "metadata": {},
   "source": [
    "#### 5-5."
   ]
  },
  {
   "cell_type": "code",
   "execution_count": 24,
   "id": "75cad402",
   "metadata": {},
   "outputs": [
    {
     "name": "stdout",
     "output_type": "stream",
     "text": [
      "You just earned 5 points!\n"
     ]
    }
   ],
   "source": [
    "alien_color1: str = 'green'\n",
    "\n",
    "# If-elif-else chain to determine the player's points\n",
    "if alien_color1 == 'green':\n",
    "    print(\"You just earned 5 points!\")\n",
    "elif alien_color1 == 'yellow':\n",
    "    print(\"You just earned 10 points!\")\n",
    "else:  # This handles the case where alien_color is 'red'\n",
    "    print(\"You just earned 15 points!\")"
   ]
  },
  {
   "cell_type": "code",
   "execution_count": 23,
   "id": "12e20f3d",
   "metadata": {},
   "outputs": [
    {
     "name": "stdout",
     "output_type": "stream",
     "text": [
      "You just earned 10 points!\n"
     ]
    }
   ],
   "source": [
    "alien_color2: str = 'yellow'\n",
    "\n",
    "# If-elif-else chain to determine the player's points\n",
    "if alien_color2 == 'green':\n",
    "    print(\"You just earned 5 points!\")\n",
    "elif alien_color2 == 'yellow':\n",
    "    print(\"You just earned 10 points!\")\n",
    "else:  # This handles the case where alien_color is 'red'\n",
    "    print(\"You just earned 15 points!\")"
   ]
  },
  {
   "cell_type": "code",
   "execution_count": 22,
   "id": "5d8af299",
   "metadata": {},
   "outputs": [
    {
     "name": "stdout",
     "output_type": "stream",
     "text": [
      "You just earned 15 points!\n"
     ]
    }
   ],
   "source": [
    "alien_color3: str = 'red'\n",
    "\n",
    "# If-elif-else chain to determine the player's points\n",
    "if alien_color3 == 'green':\n",
    "    print(\"You just earned 5 points!\")\n",
    "elif alien_color3 == 'yellow':\n",
    "    print(\"You just earned 10 points!\")\n",
    "elif alien_color3 == \"red\":  # This handles the case where alien_color is 'red'\n",
    "    print(\"You just earned 15 points!\")\n",
    "else:\n",
    "    print(\"No Points\")"
   ]
  },
  {
   "cell_type": "markdown",
   "id": "802413f3",
   "metadata": {},
   "source": [
    "#### 5-6."
   ]
  },
  {
   "cell_type": "code",
   "execution_count": 3,
   "id": "4ce969e0",
   "metadata": {},
   "outputs": [
    {
     "name": "stdout",
     "output_type": "stream",
     "text": [
      "This teenager\n"
     ]
    }
   ],
   "source": [
    "person_age: int = 18\n",
    "\n",
    "if person_age < 2 and person_age > 4:\n",
    "    print(\"This is baby\")\n",
    "elif person_age >= 2 and person_age <= 4:\n",
    "    print(\"This is toddler\")\n",
    "elif person_age >= 4 and person_age <= 13:\n",
    "    print(\"This is Kid\")\n",
    "elif person_age >= 13 and person_age <= 20:\n",
    "    print(\"This teenager\")\n",
    "elif person_age >= 20 and person_age <= 65:\n",
    "    print(\"This is Adult\")\n",
    "else:\n",
    "    print(\"Old Man\")"
   ]
  },
  {
   "cell_type": "code",
   "execution_count": 8,
   "id": "be179691",
   "metadata": {},
   "outputs": [
    {
     "name": "stdout",
     "output_type": "stream",
     "text": [
      "Apple Available\n",
      "Mango Available\n",
      "Banana Available\n",
      "Orange is not Available in my ['Apple', 'Mango', 'Banana']\n",
      "Strawberry is not Available my ['Apple', 'Banana', 'Mango']\n"
     ]
    }
   ],
   "source": [
    "my_fruites_list: list[str] = [\"Apple\", \"Mango\", \"Banana\"]\n",
    "\n",
    "if \"Apple\" in my_fruites_list:\n",
    "    print(\"Apple Available\")\n",
    "\n",
    "if \"Mango\" in my_fruites_list:\n",
    "    print(\"Mango Available\")\n",
    "\n",
    "if \"Banana\" in my_fruites_list:\n",
    "    print(\"Banana Available\")\n",
    "\n",
    "if \"Orange\" in my_fruites_list:\n",
    "    print(f\"Orange is Available\")\n",
    "else:\n",
    "    print(f\"Orange is not Available in my {my_fruites_list}\")\n",
    "\n",
    "if \"Strawberry\" in my_fruites_list:\n",
    "    print(f\"Strawberry is Available\")\n",
    "else:\n",
    "    print(f\"Strawberry is not Available my {sorted(my_fruites_list)}\")"
   ]
  },
  {
   "cell_type": "code",
   "execution_count": 34,
   "id": "558fed33",
   "metadata": {},
   "outputs": [
    {
     "name": "stdout",
     "output_type": "stream",
     "text": [
      "No user Found!\n"
     ]
    }
   ],
   "source": [
    "usernames: list[str] = ['admin', 'jaden', 'emily', 'sarah', 'michael']\n",
    "\n",
    "name: str = input(\"Enter your username: \")\n",
    "\n",
    "for person_name in usernames:\n",
    "    if name == person_name:\n",
    "        if name == \"admin\":\n",
    "            print(\"Hello Admin, How Are You Today!\")\n",
    "            break\n",
    "        else:\n",
    "            print(f\"Welcome Again {name.capitalize()}!\")\n",
    "            break\n",
    "else:\n",
    "    print(\"No user Found!\")"
   ]
  },
  {
   "cell_type": "code",
   "execution_count": 51,
   "id": "065905ce",
   "metadata": {},
   "outputs": [
    {
     "name": "stdout",
     "output_type": "stream",
     "text": [
      "We need to find some users!\n"
     ]
    }
   ],
   "source": [
    "list_of_users: list = [] \n",
    "\n",
    "input_user_names = input(\"Enter Name: \")\n",
    "\n",
    "if not list_of_users:\n",
    "    print(\"We need to find some users!\")\n",
    "else:\n",
    "    for list_of_user_names in list_of_users:\n",
    "        if input_user_names == list_of_user_names:\n",
    "            if list_of_user_names == \"admin\":\n",
    "                print(\"Hello Admin How Are You Today!\")\n",
    "            else:\n",
    "                print(f\"Welcome back {list_of_user_names}\")\n",
    "\n"
   ]
  },
  {
   "cell_type": "code",
   "execution_count": 52,
   "id": "8c937ede",
   "metadata": {},
   "outputs": [
    {
     "name": "stdout",
     "output_type": "stream",
     "text": [
      "Sorry, the username 'JADEN' is already taken. Please choose a different username.\n",
      "Sorry, the username 'sarah' is already taken. Please choose a different username.\n",
      "The username 'John' is available.\n",
      "The username 'paul' is available.\n",
      "The username 'Anna' is available.\n"
     ]
    }
   ],
   "source": [
    "# Step 1: Define the current and new users\n",
    "current_users = ['admin', 'jaden', 'emily', 'sarah', 'michael']\n",
    "new_users = ['JADEN', 'sarah', 'John', 'paul', 'Anna']\n",
    "\n",
    "# Step 2: Convert current_users to lowercase for case-insensitive comparison\n",
    "current_users_lower = [user.lower() for user in current_users]\n",
    "\n",
    "# Step 3: Loop through new_users and check availability\n",
    "for new_user in new_users:\n",
    "    if new_user.lower() in current_users_lower:\n",
    "        print(f\"Sorry, the username '{new_user}' is already taken. Please choose a different username.\")\n",
    "    else:\n",
    "        print(f\"The username '{new_user}' is available.\")\n"
   ]
  },
  {
   "cell_type": "code",
   "execution_count": 53,
   "id": "3266abef",
   "metadata": {},
   "outputs": [
    {
     "name": "stdout",
     "output_type": "stream",
     "text": [
      "1st\n",
      "2nd\n",
      "3rd\n",
      "4th\n",
      "5th\n",
      "6th\n",
      "7th\n",
      "8th\n",
      "9th\n"
     ]
    }
   ],
   "source": [
    "# Step 1: Store the numbers 1 through 9 in a list\n",
    "numbers = list(range(1, 10))\n",
    "\n",
    "# Step 2: Loop through the list\n",
    "for number in numbers:\n",
    "    # Step 3: Use if-elif-else to determine the ordinal ending\n",
    "    if number == 1:\n",
    "        print(f\"{number}st\")\n",
    "    elif number == 2:\n",
    "        print(f\"{number}nd\")\n",
    "    elif number == 3:\n",
    "        print(f\"{number}rd\")\n",
    "    else:\n",
    "        print(f\"{number}th\")\n"
   ]
  },
  {
   "cell_type": "code",
   "execution_count": 55,
   "id": "1d07dda6",
   "metadata": {},
   "outputs": [
    {
     "name": "stdout",
     "output_type": "stream",
     "text": [
      "Sorry, the username 'JADEN' is already taken. Please choose a different username.\n",
      "Sorry, the username 'sarah' is already taken. Please choose a different username.\n",
      "The username 'John' is available.\n",
      "The username 'paul' is available.\n",
      "The username 'Anna' is available.\n",
      "Sorry, the username 'JADEN' is already taken. Please choose a different username.\n",
      "Sorry, the username 'sarah' is already taken. Please choose a different username.\n",
      "The username 'John' is available.\n",
      "The username 'paul' is available.\n",
      "The username 'Anna' is available.\n"
     ]
    }
   ],
   "source": [
    "current_users = ['admin', 'jaden', 'emily', 'sarah', 'michael']\n",
    "new_users = ['JADEN', 'sarah', 'John', 'paul', 'Anna']\n",
    "\n",
    "current_users_lower = [user.lower() for user in current_users]\n",
    "\n",
    "for new_user in new_users:\n",
    "    if new_user.lower() in current_users_lower:\n",
    "        print(f\"Sorry, the username '{new_user}' is already taken. Please choose a different username.\")\n",
    "    else:\n",
    "        print(f\"The username '{new_user}' is available.\")\n",
    "        \n",
    "        \n",
    "# List of existing users\n",
    "current_users = ['admin', 'jaden', 'emily', 'sarah', 'michael']\n",
    "new_users = ['JADEN', 'sarah', 'John', 'paul', 'Anna']\n",
    "\n",
    "# Convert all current users to lowercase for case-insensitive comparison\n",
    "current_users_lower = [user.lower() for user in current_users]\n",
    "\n",
    "# Check availability of new usernames\n",
    "for new_user in new_users:\n",
    "    new_user_lower = new_user.lower()\n",
    "    \n",
    "    if new_user_lower in current_users_lower:\n",
    "        print(f\"Sorry, the username '{new_user}' is already taken. Please choose a different username.\")\n",
    "    else:\n",
    "        print(f\"The username '{new_user}' is available.\")\n",
    "\n"
   ]
  },
  {
   "cell_type": "code",
   "execution_count": 4,
   "id": "39fc5beb",
   "metadata": {},
   "outputs": [
    {
     "data": {
      "text/plain": [
       "['welcome', 'user', 'how', 'are', 'you', 'today?']"
      ]
     },
     "execution_count": 4,
     "metadata": {},
     "output_type": "execute_result"
    }
   ],
   "source": [
    "input(\"Enter ',' seprated value for topping\").split(\",\")"
   ]
  },
  {
   "cell_type": "markdown",
   "id": "e7300c55",
   "metadata": {},
   "source": [
    "#### 5-13 Will Complete At the end because it says to complete the python projects"
   ]
  },
  {
   "cell_type": "markdown",
   "id": "763dcd08",
   "metadata": {},
   "source": [
    "## Chapter 5 Completed"
   ]
  }
 ],
 "metadata": {
  "kernelspec": {
   "display_name": "Python 3 (ipykernel)",
   "language": "python",
   "name": "python3"
  },
  "language_info": {
   "codemirror_mode": {
    "name": "ipython",
    "version": 3
   },
   "file_extension": ".py",
   "mimetype": "text/x-python",
   "name": "python",
   "nbconvert_exporter": "python",
   "pygments_lexer": "ipython3",
   "version": "3.12.0"
  }
 },
 "nbformat": 4,
 "nbformat_minor": 5
}
